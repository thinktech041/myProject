{
 "cells": [
  {
   "cell_type": "code",
   "execution_count": 3,
   "metadata": {},
   "outputs": [],
   "source": [
    "# using the lanchester equation to model warfare\n",
    "# war btW  armies X and Y armies"
   ]
  },
  {
   "cell_type": "code",
   "execution_count": 9,
   "metadata": {},
   "outputs": [],
   "source": [
    "#Lanchester model for intimate battle field warfare\n",
    "\n",
    "'''\n",
    "suppose that x armies and y armies engage each other in combat.\n",
    "both sides use area fire and target acquisition times remain constant, \n",
    "independent of the force levels( a special case when they are neligible)\n",
    "in any case both sides tend to use a constant density defense defence. These\n",
    "two heterogeneous forces have a density of weapons units X(t) and Y(t)\n",
    "respectively, as a function of time t >= 0. \n",
    "\n",
    "'''\n",
    "\"\"\"\n",
    "Assumptions\n",
    "1. both armies supply no reinforcements at any time t\n",
    "2. There is initial interaction btw the two armies \n",
    "\"\"\"\n",
    "# defining a range of values for t, x and y\n",
    "\n",
    "t = 2 # to def a function t can be a range  [_ for _ in range(1,20,1)] # initial time limits\n",
    "xo = 1000  # Initial weapons Density for x\n",
    "yo = 2000  # Initial weapons Density for y\n",
    "\n",
    "# this values of x and y can be changed same for k and q\n",
    "x,y = 2,4\n",
    "\n",
    "k = 10\n",
    "q = 1.2\n",
    "# the lanchester pair equations\n",
    "dxdt = -k*(x*y)\n",
    "dydt = -q*(x*y)\n",
    "\n",
    "# where q and k are constants"
   ]
  },
  {
   "cell_type": "code",
   "execution_count": 11,
   "metadata": {},
   "outputs": [],
   "source": [
    "# lanchester pair equation solutions\n",
    "import math\n",
    "\n",
    "x = xo*(math.exp(-k*y*t))\n",
    "y = yo*(math.exp(-q*y*t))"
   ]
  },
  {
   "cell_type": "code",
   "execution_count": null,
   "metadata": {},
   "outputs": [],
   "source": []
  },
  {
   "cell_type": "code",
   "execution_count": null,
   "metadata": {},
   "outputs": [],
   "source": []
  }
 ],
 "metadata": {
  "interpreter": {
   "hash": "e26168929ab281f074034658c2f7b35e1f072e88dcf0f0c1feb12692abba1199"
  },
  "kernelspec": {
   "display_name": "Python 3.9.8 ('venv': venv)",
   "language": "python",
   "name": "python3"
  },
  "language_info": {
   "codemirror_mode": {
    "name": "ipython",
    "version": 3
   },
   "file_extension": ".py",
   "mimetype": "text/x-python",
   "name": "python",
   "nbconvert_exporter": "python",
   "pygments_lexer": "ipython3",
   "version": "3.9.8"
  },
  "orig_nbformat": 4
 },
 "nbformat": 4,
 "nbformat_minor": 2
}
